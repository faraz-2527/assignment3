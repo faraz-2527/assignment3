{
 "cells": [
  {
   "cell_type": "code",
   "execution_count": 1,
   "id": "74d92f1e-3d62-4795-b993-5d4984650cc5",
   "metadata": {},
   "outputs": [
    {
     "name": "stdout",
     "output_type": "stream",
     "text": [
      "Twinkle, twinkle, little star,\n",
      "How I wonder what you are!\n",
      "          Up above the world so high,\n",
      "          Like a diamond in the sky.\n",
      "\n",
      "Twinkle, twinkle, little star,\n",
      "How I wonder what you are!\n"
     ]
    }
   ],
   "source": [
    "#q1\n",
    "line1 = \"Twinkle, twinkle, little star,\\nHow I wonder what you are!\"\n",
    "line2 = \"          Up above the world so high,\\n          Like a diamond in the sky.\"\n",
    "line3 = \"Twinkle, twinkle, little star,\\nHow I wonder what you are\"\n",
    "\n",
    "# Print the poem with the specific format\n",
    "print(line1)\n",
    "print(line2)\n",
    "print()  # Print a blank line\n",
    "print(line1)"
   ]
  },
  {
   "cell_type": "code",
   "execution_count": 7,
   "id": "3e163168-f12b-4641-9132-d22e65678f33",
   "metadata": {},
   "outputs": [
    {
     "name": "stdout",
     "output_type": "stream",
     "text": [
      "You are using Python version: 3.12.4 | packaged by Anaconda, Inc. | (main, Jun 18 2024, 15:03:56) [MSC v.1929 64 bit (AMD64)]\n"
     ]
    }
   ],
   "source": [
    "import sys\n",
    "\n",
    "python_version = sys.version\n",
    "print(f\"You are using Python version: {python_version}\")\n"
   ]
  },
  {
   "cell_type": "code",
   "execution_count": 9,
   "id": "ddb63d14-b5c1-435b-b267-8a72fe6d12aa",
   "metadata": {},
   "outputs": [
    {
     "name": "stdout",
     "output_type": "stream",
     "text": [
      "Current date and time: 2024-08-02 03:22:26\n"
     ]
    }
   ],
   "source": [
    "from datetime import datetime\n",
    "\n",
    "# Get the current date and time\n",
    "now = datetime.now()\n",
    "\n",
    "# Format the date and time as a string\n",
    "formatted_now = now.strftime(\"%Y-%m-%d %H:%M:%S\")\n",
    "\n",
    "# Print the result\n",
    "print(f\"Current date and time: {formatted_now}\")\n"
   ]
  },
  {
   "cell_type": "code",
   "execution_count": 11,
   "id": "80a7d69c-85a6-4279-9462-2f3920e8305d",
   "metadata": {},
   "outputs": [
    {
     "name": "stdin",
     "output_type": "stream",
     "text": [
      "Enter the radius of the circle:  5\n"
     ]
    },
    {
     "name": "stdout",
     "output_type": "stream",
     "text": [
      "The area of the circle with radius 5.0 is 78.54\n"
     ]
    }
   ],
   "source": [
    "#4. Write a Python program which accepts the radius of a circle from the user and compute the area.\n",
    "\n",
    "\n",
    "import math\n",
    "\n",
    "\n",
    "radius = float(input(\"Enter the radius of the circle: \"))\n",
    "\n",
    "area = math.pi * (radius ** 2)\n",
    "\n",
    "# Print the result\n",
    "print(f\"The area of the circle with radius {radius} is {area:.2f}\")\n"
   ]
  },
  {
   "cell_type": "code",
   "execution_count": 12,
   "id": "7978f736-69d5-4f3c-a9f7-9e22136193be",
   "metadata": {},
   "outputs": [
    {
     "name": "stdin",
     "output_type": "stream",
     "text": [
      "Enter your first name:  PATRICK\n",
      "Enter your last name:  NELSON\n"
     ]
    },
    {
     "name": "stdout",
     "output_type": "stream",
     "text": [
      "NELSON PATRICK\n"
     ]
    }
   ],
   "source": [
    "#5. Write a Python program which accepts the user's first and last name and print them in reverse order with a space between them.\n",
    "\n",
    "first_name = input(\"Enter your first name: \")\n",
    "\n",
    "\n",
    "last_name = input(\"Enter your last name: \")\n",
    "\n",
    "print(f\"{last_name} {first_name}\")\n"
   ]
  },
  {
   "cell_type": "code",
   "execution_count": 13,
   "id": "5446d6ff-9ec2-4837-b8f2-89fbfc2813ef",
   "metadata": {},
   "outputs": [
    {
     "name": "stdout",
     "output_type": "stream",
     "text": [
      "The addition of 10.5 and 4.3 is 14.80\n"
     ]
    }
   ],
   "source": [
    "#6. Write a python program which takes two inputs from user and print them addition\n",
    "num1 = \"10.5\"  \n",
    "num2 = \"4.3\"  \n",
    "\n",
    "num1 = float(num1)\n",
    "num2 = float(num2)\n",
    "\n",
    "result = num1 + num2\n",
    "\n",
    "print(f\"The addition of {num1} and {num2} is {result:.2f}\")"
   ]
  },
  {
   "cell_type": "code",
   "execution_count": 14,
   "id": "ddcd4579-be0f-4223-8c14-d2455f4a8c1f",
   "metadata": {},
   "outputs": [
    {
     "name": "stdout",
     "output_type": "stream",
     "text": [
      "\n",
      "Mark Sheet\n",
      "----------\n",
      "Total Marks: 401.00\n",
      "Average Marks: 80.20\n",
      "Grade: A\n"
     ]
    }
   ],
   "source": [
    "#7. Write a program which takes 5 inputs from user for different subject’s marks, total it and generate mark sheet using grades ?\n",
    "def determine_grade(average):\n",
    "    \n",
    "    grades = [\n",
    "        (90, 'A+'),\n",
    "        (80, 'A'),\n",
    "        (70, 'B+'),\n",
    "        (60, 'B'),\n",
    "        (50, 'C+'),\n",
    "        (40, 'C'),\n",
    "        (0, 'D')  #\n",
    "    ]\n",
    "    \n",
    "  \n",
    "    for threshold, grade in grades:\n",
    "        if average >= threshold:\n",
    "            return grade\n",
    "\n",
    "marks = [85, 78, 92, 66, 80]  \n",
    "\n",
    "total_marks = sum(marks)\n",
    "average_marks = total_marks / 5\n",
    "\n",
    "grade = determine_grade(average_marks)\n",
    "\n",
    "\n",
    "print(\"\\nMark Sheet\")\n",
    "print(\"----------\")\n",
    "print(f\"Total Marks: {total_marks:.2f}\")\n",
    "print(f\"Average Marks: {average_marks:.2f}\")\n",
    "print(f\"Grade: {grade}\")\n"
   ]
  },
  {
   "cell_type": "code",
   "execution_count": 15,
   "id": "67e6c569-78fc-4929-80fb-b0c60f1dac0f",
   "metadata": {},
   "outputs": [
    {
     "name": "stdout",
     "output_type": "stream",
     "text": [
      "The number 7 is odd.\n"
     ]
    }
   ],
   "source": [
    "#8. Write a program which take input from user and identify that the given number is even or odd?\n",
    "number = 7  \n",
    "\n",
    "if number % 2 == 0:\n",
    "    print(f\"The number {number} is even.\")\n",
    "else:\n",
    "    print(f\"The number {number} is odd.\")\n"
   ]
  },
  {
   "cell_type": "code",
   "execution_count": 16,
   "id": "a46b3848-fefc-4160-97cb-011403a4a06e",
   "metadata": {},
   "outputs": [
    {
     "name": "stdout",
     "output_type": "stream",
     "text": [
      "The length of the list is: 5\n"
     ]
    }
   ],
   "source": [
    "#9. Write a program which print the length of the list?\n",
    "my_list = [10, 20, 30, 40, 50]\n",
    "\n",
    "length_of_list = len(my_list)\n",
    "\n",
    "print(f\"The length of the list is: {length_of_list}\")"
   ]
  },
  {
   "cell_type": "code",
   "execution_count": 18,
   "id": "6eafaa44-423a-4b02-a0aa-844c75443bd6",
   "metadata": {},
   "outputs": [
    {
     "name": "stdout",
     "output_type": "stream",
     "text": [
      "The sum of all numeric items in the list is: 15.5\n"
     ]
    }
   ],
   "source": [
    "# Define the list with mixed types\n",
    "items = [1, 2.5, 'hello', 3, 4.0, 'world', 5]\n",
    "\n",
    "\n",
    "total_sum = sum(item for item in items if isinstance(item, (int, float)))\n",
    "\n",
    "\n",
    "print(f\"The sum of all numeric items in the list is: {total_sum}\")\n"
   ]
  },
  {
   "cell_type": "code",
   "execution_count": 19,
   "id": "fb96088a-2d4e-4f56-89ac-0548b0f05cf3",
   "metadata": {},
   "outputs": [
    {
     "name": "stdout",
     "output_type": "stream",
     "text": [
      "The largest number in the list is: 33\n"
     ]
    }
   ],
   "source": [
    "# 11.Write a Python program to get the largest number from a numeric list.\n",
    "numeric_list = [10, 25, 7, 33, 8, 17]\n",
    "\n",
    "largest_number = max(numeric_list)\n",
    "\n",
    "print(f\"The largest number in the list is: {largest_number}\")"
   ]
  },
  {
   "cell_type": "code",
   "execution_count": null,
   "id": "62167216-5d1b-47e6-b0af-35469457190e",
   "metadata": {},
   "outputs": [],
   "source": []
  }
 ],
 "metadata": {
  "kernelspec": {
   "display_name": "Python 3 (ipykernel)",
   "language": "python",
   "name": "python3"
  },
  "language_info": {
   "codemirror_mode": {
    "name": "ipython",
    "version": 3
   },
   "file_extension": ".py",
   "mimetype": "text/x-python",
   "name": "python",
   "nbconvert_exporter": "python",
   "pygments_lexer": "ipython3",
   "version": "3.12.4"
  }
 },
 "nbformat": 4,
 "nbformat_minor": 5
}
